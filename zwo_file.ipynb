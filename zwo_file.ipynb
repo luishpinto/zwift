{
  "nbformat": 4,
  "nbformat_minor": 0,
  "metadata": {
    "colab": {
      "name": "zwo-file.ipynb",
      "provenance": [],
      "collapsed_sections": [],
      "authorship_tag": "ABX9TyMA8icYdDBtS1gdmlXpT877",
      "include_colab_link": true
    },
    "kernelspec": {
      "name": "python3",
      "display_name": "Python 3"
    }
  },
  "cells": [
    {
      "cell_type": "markdown",
      "metadata": {
        "id": "view-in-github",
        "colab_type": "text"
      },
      "source": [
        "<a href=\"https://colab.research.google.com/github/luishpinto/zwift/blob/master/zwo_file.ipynb\" target=\"_parent\"><img src=\"https://colab.research.google.com/assets/colab-badge.svg\" alt=\"Open In Colab\"/></a>"
      ]
    },
    {
      "cell_type": "code",
      "metadata": {
        "id": "OiElTmiAzszu",
        "colab_type": "code",
        "colab": {}
      },
      "source": [
        "import numpy as np"
      ],
      "execution_count": 0,
      "outputs": []
    },
    {
      "cell_type": "code",
      "metadata": {
        "id": "i9BIipzoXDfK",
        "colab_type": "code",
        "colab": {}
      },
      "source": [
        "class Cooper():\n",
        "  def __init__(self,age,weight,distance):\n",
        "    self.age = age\n",
        "    self.weight = weight\n",
        "    self.distance = distance\n",
        "    self.time = 720.0\n",
        "    self.rHR = np.array([0.70,0.80,0.90,1.00,1.15])\n",
        "    self.rPA = np.array([0.75,0.85,0.90,1.00,1.05])\n",
        "    self.intensity = np.array(['easy','marathon','threshold','interval','repetition'])\n",
        "\n",
        "    self.VO2Max = ( self.distance - 504.9 ) / 44.73\n",
        "    self.pace = ( self.distance * self.rPA ) / self.time\n",
        "    self.HR = (( 220.0 - self.age ) - 60.0 ) * self.rHR + 60.0\n",
        "\n",
        "    self.energy = ( -95.7735 + ( 0.634 * self.HR ) + ( 0.404 * self.VO2Max ) + ( 0.394 * self.weight ) + ( 0.271 * self.age )) / 4.184\n",
        "    self.power = self.energy * 60.0 / 4.184\n",
        "    self.rPO = self.power / self.power[3] + 0.05\n",
        "\n",
        "  def Warmup(self,distance,intensity):\n",
        "    idx = np.array([np.where(self.intensity == intensity[0])[0][0],\n",
        "                    np.where(self.intensity == intensity[1])[0][0]])\n",
        "    print('<Warmup Duration=\"{:d}\" PowerLow=\"{:1.8f}\" PowerHigh=\"{:1.8f}\" pace=\"1\" />'.format(distance,self.rPO[idx[0]],self.rPO[idx[1]]))\n",
        "\n",
        "  def Cooldown(self,distance,intensity):\n",
        "    idx = np.array([np.where(self.intensity == intensity[0])[0][0],\n",
        "                    np.where(self.intensity == intensity[1])[0][0]])\n",
        "    print('<Cooldown Duration=\"{:d}\" PowerLow=\"{:1.8f}\" PowerHigh=\"{:1.8f}\" pace=\"1\" />'.format(distance,self.rPO[idx[0]],self.rPO[idx[1]]))\n",
        "  \n",
        "  def SteadyState(self,distance,intensity):\n",
        "    idx = np.array([np.where(self.intensity == intensity)[0][0]])\n",
        "    print('<SteadyState Duration=\"{:d}\" Power=\"{:1.8f}\" pace=\"1\" />'.format(distance,self.rPO[idx[0]]))\n",
        "\n",
        "  def IntervalsT(self,distance,intensity,repetitions):\n",
        "    idx = np.array([np.where(self.intensity == intensity[0])[0][0],\n",
        "                    np.where(self.intensity == intensity[1])[0][0]])\n",
        "    print('<IntervalsT Repeat=\"{:d}\" OnDuration=\"{:d}\" OffDuration=\"{:d}\" OnPower=\"{:1.8f}\" OffPower=\"{:1.8f}\" pace=\"1\" />'.format(repetitions,distance[0],\\\n",
        "          distance[1],self.rPO[idx[0]],self.rPO[idx[1]]))"
      ],
      "execution_count": 0,
      "outputs": []
    },
    {
      "cell_type": "code",
      "metadata": {
        "id": "npiuDdT07z5S",
        "colab_type": "code",
        "colab": {}
      },
      "source": [
        "class Header():\n",
        "  def __init__(self,author,name,description):\n",
        "    self.author = author\n",
        "    self.name = name\n",
        "    self.description = description\n",
        "\n",
        "  def printHeader(self):\n",
        "    print('<workout_file>')\n",
        "    print('<author>{}</author>'.format(self.author))\n",
        "    print('<name>{}</name>'.format(self.name))\n",
        "    print('<description>{}</description>'.format(self.description))\n",
        "    print('<sportType>run</sportType>')\n",
        "    print('<workout>')\n",
        "\n",
        "  def Close(self):\n",
        "    print('</workout>')\n",
        "    print('</workout_file>')"
      ],
      "execution_count": 0,
      "outputs": []
    },
    {
      "cell_type": "code",
      "metadata": {
        "id": "OKd6jAjJXXUE",
        "colab_type": "code",
        "colab": {}
      },
      "source": [
        "# Luis H PINTO, 46 years old, 74 kg of mass, 2,570.0 meters covered during the Cooper Test\n",
        "\n",
        "df = Cooper(age = 46,weight = 74,distance = 2570.0)"
      ],
      "execution_count": 0,
      "outputs": []
    },
    {
      "cell_type": "code",
      "metadata": {
        "id": "KGsF16fOdIB3",
        "colab_type": "code",
        "colab": {}
      },
      "source": [
        "# Custom workout data (i.e.: author, name, description)\n",
        "\n",
        "fh = Header(author = 'Luis H. PINTO',\n",
        "            name = 'Variable Intervals',\n",
        "            description = '1.00 km warming up + 3 x ( 0.20 km @ I + 0.20 km recovering + 0.20 km @ I + 0.20 km recovering + 0.40 km @ I + 0.20 km recovering ) + 1.00 km cooling down')"
      ],
      "execution_count": 0,
      "outputs": []
    },
    {
      "cell_type": "code",
      "metadata": {
        "id": "bDAquynu7Wnv",
        "colab_type": "code",
        "outputId": "38bb55ea-b8f4-4ffa-91af-0533a60e3bd7",
        "colab": {
          "base_uri": "https://localhost:8080/",
          "height": 309
        }
      },
      "source": [
        "fh.printHeader() ## keep it there\n",
        "\n",
        "# define the workout in this region of the program\n",
        "\n",
        "df.Warmup(distance = 1000,intensity = ['easy','marathon'])\n",
        "df.IntervalsT(distance = [200,200],intensity = ['interval','easy'],repetitions = 2)\n",
        "df.IntervalsT(distance = [400,400],intensity = ['interval','easy'],repetitions = 1)\n",
        "df.IntervalsT(distance = [200,200],intensity = ['interval','easy'],repetitions = 2)\n",
        "df.IntervalsT(distance = [400,400],intensity = ['interval','easy'],repetitions = 1)\n",
        "df.IntervalsT(distance = [200,200],intensity = ['interval','easy'],repetitions = 2)\n",
        "df.IntervalsT(distance = [400,400],intensity = ['interval','easy'],repetitions = 1)\n",
        "df.Cooldown(distance = 1000,intensity = ['marathon','easy'])\n",
        "\n",
        "# define the workout in this region of the program\n",
        "\n",
        "fh.Close() ## keep it there"
      ],
      "execution_count": 6,
      "outputs": [
        {
          "output_type": "stream",
          "text": [
            "<workout_file>\n",
            "<author>Luis H. PINTO</author>\n",
            "<name>Variable Intervals</name>\n",
            "<description>1.00 km warming up + 3 x ( 0.20 km @ I + 0.20 km recovering + 0.20 km @ I + 0.20 km recovering + 0.40 km @ I + 0.20 km recovering ) + 1.00 km cooling down</description>\n",
            "<sportType>run</sportType>\n",
            "<workout>\n",
            "<Warmup Duration=\"1000\" PowerLow=\"0.76018662\" PowerHigh=\"0.85679108\" pace=\"1\" />\n",
            "<IntervalsT Repeat=\"2\" OnDuration=\"200\" OffDuration=\"200\" OnPower=\"1.05000000\" OffPower=\"0.76018662\" pace=\"1\" />\n",
            "<IntervalsT Repeat=\"1\" OnDuration=\"400\" OffDuration=\"400\" OnPower=\"1.05000000\" OffPower=\"0.76018662\" pace=\"1\" />\n",
            "<IntervalsT Repeat=\"2\" OnDuration=\"200\" OffDuration=\"200\" OnPower=\"1.05000000\" OffPower=\"0.76018662\" pace=\"1\" />\n",
            "<IntervalsT Repeat=\"1\" OnDuration=\"400\" OffDuration=\"400\" OnPower=\"1.05000000\" OffPower=\"0.76018662\" pace=\"1\" />\n",
            "<IntervalsT Repeat=\"2\" OnDuration=\"200\" OffDuration=\"200\" OnPower=\"1.05000000\" OffPower=\"0.76018662\" pace=\"1\" />\n",
            "<IntervalsT Repeat=\"1\" OnDuration=\"400\" OffDuration=\"400\" OnPower=\"1.05000000\" OffPower=\"0.76018662\" pace=\"1\" />\n",
            "<Cooldown Duration=\"1000\" PowerLow=\"0.85679108\" PowerHigh=\"0.76018662\" pace=\"1\" />\n",
            "</workout>\n",
            "</workout_file>\n"
          ],
          "name": "stdout"
        }
      ]
    }
  ]
}