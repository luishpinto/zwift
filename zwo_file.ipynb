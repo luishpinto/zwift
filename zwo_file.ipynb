{
  "nbformat": 4,
  "nbformat_minor": 0,
  "metadata": {
    "colab": {
      "name": "zwo-file.ipynb",
      "provenance": [],
      "collapsed_sections": [],
      "authorship_tag": "ABX9TyNYeHxP1B0D3t9+Wg7tS0Pb",
      "include_colab_link": true
    },
    "kernelspec": {
      "name": "python3",
      "display_name": "Python 3"
    }
  },
  "cells": [
    {
      "cell_type": "markdown",
      "metadata": {
        "id": "view-in-github",
        "colab_type": "text"
      },
      "source": [
        "<a href=\"https://colab.research.google.com/github/luishpinto/zwift/blob/master/zwo_file.ipynb\" target=\"_parent\"><img src=\"https://colab.research.google.com/assets/colab-badge.svg\" alt=\"Open In Colab\"/></a>"
      ]
    },
    {
      "cell_type": "code",
      "metadata": {
        "id": "OiElTmiAzszu",
        "colab_type": "code",
        "colab": {}
      },
      "source": [
        "import numpy as np"
      ],
      "execution_count": 0,
      "outputs": []
    },
    {
      "cell_type": "code",
      "metadata": {
        "id": "i9BIipzoXDfK",
        "colab_type": "code",
        "colab": {}
      },
      "source": [
        "class Cooper():\n",
        "  def __init__(self,age,weight,distance):\n",
        "    self.age = age\n",
        "    self.weight = weight\n",
        "    self.distance = distance\n",
        "    self.time = 720.0\n",
        "    self.rHR = np.array([0.70,0.80,0.90,1.00,1.15])\n",
        "    self.rPA = np.array([0.75,0.85,0.90,1.00,1.05])\n",
        "    self.intensity = np.array(['easy','marathon','threshold','interval','repetition'])\n",
        "\n",
        "    self.VO2Max = ( self.distance - 504.9 ) / 44.73\n",
        "    self.pace = ( self.distance * self.rPA ) / self.time\n",
        "    self.HR = (( 220.0 - self.age ) - 60.0 ) * self.rHR + 60.0\n",
        "\n",
        "    self.energy = ( -95.7735 + ( 0.634 * self.HR ) + ( 0.404 * self.VO2Max ) + ( 0.394 * self.weight ) + ( 0.271 * self.age )) / 4.184\n",
        "    self.power = self.energy * 60.0 / 4.184\n",
        "    self.rPO = self.power / self.power[3]\n",
        "\n",
        "  def Warmup(self,distance,intensity):\n",
        "    idx = np.array([np.where(self.intensity == intensity[0])[0][0],\n",
        "                    np.where(self.intensity == intensity[1])[0][0]])\n",
        "    print('<Warmup Duration=\"{:d}\" PowerLow=\"{:1.8f}\" PowerHigh=\"{:1.8f}\" pace=\"1\" />'.format(distance,self.rPO[idx[0]],self.rPO[idx[1]]))\n",
        "\n",
        "  def Cooldown(self,distance,intensity):\n",
        "    idx = np.array([np.where(self.intensity == intensity[0])[0][0],\n",
        "                    np.where(self.intensity == intensity[1])[0][0]])\n",
        "    print('<Cooldown Duration=\"{:d}\" PowerLow=\"{:1.8f}\" PowerHigh=\"{:1.8f}\" pace=\"1\" />'.format(distance,self.rPO[idx[0]],self.rPO[idx[1]]))\n",
        "  \n",
        "  def SteadyState(self,distance,intensity):\n",
        "    idx = np.array([np.where(self.intensity == intensity)[0][0]])\n",
        "    print('<SteadyState Duration=\"{:d}\" Power=\"{:1.8f}\" pace=\"1\" />'.format(distance,self.rPO[idx[0]]))\n",
        "\n",
        "  def IntervalsT(self,distance,intensity,repetitions):\n",
        "    idx = np.array([np.where(self.intensity == intensity[0])[0][0],\n",
        "                    np.where(self.intensity == intensity[1])[0][0]])\n",
        "    print('<IntervalsT Repeat=\"{:d}\" OnDuration=\"{:d}\" OffDuration=\"{:d}\" OnPower=\"{:1.8f}\" OffPower=\"{:1.8f}\" pace=\"1\" \\>'.format(repetitions,distance[0],\\\n",
        "          distance[1],self.rPO[idx[0]],self.rPO[idx[1]]))"
      ],
      "execution_count": 0,
      "outputs": []
    },
    {
      "cell_type": "code",
      "metadata": {
        "id": "npiuDdT07z5S",
        "colab_type": "code",
        "colab": {}
      },
      "source": [
        "class Header():\n",
        "  def __init__(self,author,name,description):\n",
        "    self.author = author\n",
        "    self.name = name\n",
        "    self.description = description\n",
        "\n",
        "  def printHeader(self):\n",
        "    print('<workout_file>')\n",
        "    print('<author>{}</author>'.format(self.author))\n",
        "    print('<name>{}</name>'.format(self.name))\n",
        "    print('<description>{}</description>'.format(self.description))\n",
        "    print('<sportType>run</sportType>')\n",
        "    print('<workout>')\n",
        "\n",
        "  def Close(self):\n",
        "    print('</workout>')\n",
        "    print('</workout_file>')"
      ],
      "execution_count": 0,
      "outputs": []
    },
    {
      "cell_type": "code",
      "metadata": {
        "id": "OKd6jAjJXXUE",
        "colab_type": "code",
        "colab": {}
      },
      "source": [
        "df = Cooper(age = 46,weight = 74,distance = 2570.0)"
      ],
      "execution_count": 0,
      "outputs": []
    },
    {
      "cell_type": "code",
      "metadata": {
        "id": "KGsF16fOdIB3",
        "colab_type": "code",
        "colab": {}
      },
      "source": [
        "fh = Header(author = 'Luis H.',\n",
        "            name = 'ONE-MILE-THRESHOLD',\n",
        "            description = 'JACK DANIELS -- Training Plan for Half Marathon PHASE III: WEEK 9 | 6.80 T + 0.40 E + 6 x (0.20 R + 0.20 E)')"
      ],
      "execution_count": 0,
      "outputs": []
    },
    {
      "cell_type": "code",
      "metadata": {
        "id": "bDAquynu7Wnv",
        "colab_type": "code",
        "outputId": "d5e39a75-a2e0-49b2-cec4-54091fd7f328",
        "colab": {
          "base_uri": "https://localhost:8080/",
          "height": 238
        }
      },
      "source": [
        "fh.printHeader()\n",
        "\n",
        "# define the workout in this region of the program\n",
        "\n",
        "df.Warmup(distance = 1000,intensity = ['easy','marathon'])\n",
        "df.SteadyState(distance = 6800,intensity = 'threshold')\n",
        "df.SteadyState(distance = 400,intensity = 'easy')\n",
        "df.IntervalsT(distance = [200,200],intensity = ['repetition','easy'],repetitions = 6)\n",
        "df.Cooldown(distance = 1000,intensity = ['marathon','easy'])\n",
        "\n",
        "# define the workout in this region of the program\n",
        "\n",
        "fh.Close()"
      ],
      "execution_count": 6,
      "outputs": [
        {
          "output_type": "stream",
          "text": [
            "<workout_file>\n",
            "<author>Luis H.</author>\n",
            "<name>ONE-MILE-THRESHOLD</name>\n",
            "<description>JACK DANIELS -- Training Plan for Half Marathon PHASE III: WEEK 9 | 6.80 T + 0.40 E + 6 x (0.20 R + 0.20 E)</description>\n",
            "<sportType>run</sportType>\n",
            "<workout>\n",
            "<Warmup Duration=\"1000\" PowerLow=\"0.71018662\" PowerHigh=\"0.80679108\" pace=\"1\" />\n",
            "<SteadyState Duration=\"6800\" Power=\"0.90339554\" pace=\"1\" />\n",
            "<SteadyState Duration=\"400\" Power=\"0.71018662\" pace=\"1\" />\n",
            "<IntervalsT Repeat=\"6\" OnDuration=\"200\" OffDuration=\"200\" OnPower=\"1.14490669\" OffPower=\"0.71018662\" pace=\"1\" \\>\n",
            "<Cooldown Duration=\"1000\" PowerLow=\"0.80679108\" PowerHigh=\"0.71018662\" pace=\"1\" />\n",
            "</workout>\n",
            "</workout_file>\n"
          ],
          "name": "stdout"
        }
      ]
    }
  ]
}